{
 "cells": [
  {
   "cell_type": "markdown",
   "metadata": {},
   "source": [
    "# Numpy related examples - collected by Satya"
   ]
  },
  {
   "cell_type": "markdown",
   "metadata": {},
   "source": [
    "Try these examples, add your own problems , add comments to understand what is done at each cell level and download it for future practice. "
   ]
  },
  {
   "cell_type": "code",
   "execution_count": 12,
   "metadata": {},
   "outputs": [
    {
     "name": "stdout",
     "output_type": "stream",
     "text": [
      "X [[1 2 3]\n",
      " [4 5 6]]\n",
      "X.shape is (2, 3)\n",
      "n and d 2 3\n"
     ]
    }
   ],
   "source": [
    "import numpy as np\n",
    "X = np.array([[1,2,3],[4,5,6]])\n",
    "print('X',X)\n",
    "print('X.shape is',X.shape)\n",
    "n,d = X.shape\n",
    "print('n and d',n,d)"
   ]
  },
  {
   "cell_type": "code",
   "execution_count": 13,
   "metadata": {},
   "outputs": [
    {
     "name": "stdout",
     "output_type": "stream",
     "text": [
      "Y [[1 2 3]\n",
      " [4 5 6]]\n",
      "Y.shape is (2, 3)\n",
      "n1 and d1 2 3\n"
     ]
    }
   ],
   "source": [
    "#\n",
    "import numpy as np\n",
    "Y = np.array([[1,2,3],[4,5,6]])\n",
    "print('Y',Y)\n",
    "print('Y.shape is',Y.shape)\n",
    "n1,d1 = Y.shape\n",
    "print('n1 and d1',n1,d1)"
   ]
  },
  {
   "cell_type": "code",
   "execution_count": 14,
   "metadata": {},
   "outputs": [
    {
     "name": "stdout",
     "output_type": "stream",
     "text": [
      "X [[1 2 3]\n",
      " [4 5 6]]\n",
      "Y [[1 2 3]\n",
      " [4 5 6]]\n",
      "Z [[ 1  4  9]\n",
      " [16 25 36]]\n"
     ]
    }
   ],
   "source": [
    "Z = X*Y\n",
    "print('X',X)\n",
    "print('Y',Y)\n",
    "print('Z',Z)"
   ]
  },
  {
   "cell_type": "code",
   "execution_count": 15,
   "metadata": {},
   "outputs": [
    {
     "ename": "ValueError",
     "evalue": "matmul: Input operand 1 has a mismatch in its core dimension 0, with gufunc signature (n?,k),(k,m?)->(n?,m?) (size 2 is different from 3)",
     "output_type": "error",
     "traceback": [
      "\u001b[0;31m---------------------------------------------------------------------------\u001b[0m",
      "\u001b[0;31mValueError\u001b[0m                                Traceback (most recent call last)",
      "\u001b[0;32m<ipython-input-15-f314b1b80fac>\u001b[0m in \u001b[0;36m<module>\u001b[0;34m()\u001b[0m\n\u001b[1;32m      1\u001b[0m \u001b[0;34m\u001b[0m\u001b[0m\n\u001b[0;32m----> 2\u001b[0;31m \u001b[0mZ\u001b[0m \u001b[0;34m=\u001b[0m \u001b[0mX\u001b[0m\u001b[0;34m@\u001b[0m\u001b[0mY\u001b[0m\u001b[0;34m\u001b[0m\u001b[0;34m\u001b[0m\u001b[0m\n\u001b[0m\u001b[1;32m      3\u001b[0m \u001b[0mprint\u001b[0m\u001b[0;34m(\u001b[0m\u001b[0;34m'X'\u001b[0m\u001b[0;34m,\u001b[0m\u001b[0mX\u001b[0m\u001b[0;34m)\u001b[0m\u001b[0;34m\u001b[0m\u001b[0;34m\u001b[0m\u001b[0m\n\u001b[1;32m      4\u001b[0m \u001b[0mprint\u001b[0m\u001b[0;34m(\u001b[0m\u001b[0;34m'Y'\u001b[0m\u001b[0;34m,\u001b[0m\u001b[0mY\u001b[0m\u001b[0;34m)\u001b[0m\u001b[0;34m\u001b[0m\u001b[0;34m\u001b[0m\u001b[0m\n\u001b[1;32m      5\u001b[0m \u001b[0mprint\u001b[0m\u001b[0;34m(\u001b[0m\u001b[0;34m'Z = X@Y'\u001b[0m\u001b[0;34m,\u001b[0m\u001b[0mZ\u001b[0m\u001b[0;34m)\u001b[0m\u001b[0;34m\u001b[0m\u001b[0;34m\u001b[0m\u001b[0m\n",
      "\u001b[0;31mValueError\u001b[0m: matmul: Input operand 1 has a mismatch in its core dimension 0, with gufunc signature (n?,k),(k,m?)->(n?,m?) (size 2 is different from 3)"
     ]
    }
   ],
   "source": [
    "\n",
    "Z = X@Y\n",
    "print('X',X)\n",
    "print('Y',Y)\n",
    "print('Z = X@Y',Z)\n"
   ]
  },
  {
   "cell_type": "code",
   "execution_count": 16,
   "metadata": {},
   "outputs": [
    {
     "data": {
      "text/plain": [
       "\"\\nprint('X.shape',X.shape)\\nprint('Y.shape',Y.shape)\\nZ = X@Y\\nprint('Z = X@Y',Z.shape)\\n\""
      ]
     },
     "execution_count": 16,
     "metadata": {},
     "output_type": "execute_result"
    }
   ],
   "source": [
    "'''\n",
    "print('X.shape',X.shape)\n",
    "print('Y.shape',Y.shape)\n",
    "Z = X@Y\n",
    "print('Z = X@Y',Z.shape)\n",
    "'''"
   ]
  },
  {
   "cell_type": "code",
   "execution_count": 17,
   "metadata": {},
   "outputs": [
    {
     "name": "stdout",
     "output_type": "stream",
     "text": [
      "X.shape (2, 3)\n",
      "Y.shape (2, 3)\n"
     ]
    },
    {
     "ename": "ValueError",
     "evalue": "shapes (2,3) and (2,3) not aligned: 3 (dim 1) != 2 (dim 0)",
     "output_type": "error",
     "traceback": [
      "\u001b[0;31m---------------------------------------------------------------------------\u001b[0m",
      "\u001b[0;31mValueError\u001b[0m                                Traceback (most recent call last)",
      "\u001b[0;32m<ipython-input-17-11ed1cb18514>\u001b[0m in \u001b[0;36m<module>\u001b[0;34m()\u001b[0m\n\u001b[1;32m      1\u001b[0m \u001b[0mprint\u001b[0m\u001b[0;34m(\u001b[0m\u001b[0;34m'X.shape'\u001b[0m\u001b[0;34m,\u001b[0m\u001b[0mX\u001b[0m\u001b[0;34m.\u001b[0m\u001b[0mshape\u001b[0m\u001b[0;34m)\u001b[0m\u001b[0;34m\u001b[0m\u001b[0;34m\u001b[0m\u001b[0m\n\u001b[1;32m      2\u001b[0m \u001b[0mprint\u001b[0m\u001b[0;34m(\u001b[0m\u001b[0;34m'Y.shape'\u001b[0m\u001b[0;34m,\u001b[0m\u001b[0mY\u001b[0m\u001b[0;34m.\u001b[0m\u001b[0mshape\u001b[0m\u001b[0;34m)\u001b[0m\u001b[0;34m\u001b[0m\u001b[0;34m\u001b[0m\u001b[0m\n\u001b[0;32m----> 3\u001b[0;31m \u001b[0mZ\u001b[0m \u001b[0;34m=\u001b[0m \u001b[0mnp\u001b[0m\u001b[0;34m.\u001b[0m\u001b[0mdot\u001b[0m\u001b[0;34m(\u001b[0m\u001b[0mX\u001b[0m\u001b[0;34m,\u001b[0m\u001b[0mY\u001b[0m\u001b[0;34m)\u001b[0m\u001b[0;34m\u001b[0m\u001b[0;34m\u001b[0m\u001b[0m\n\u001b[0m\u001b[1;32m      4\u001b[0m \u001b[0mprint\u001b[0m\u001b[0;34m(\u001b[0m\u001b[0;34m'Z = np.dot(X,Y)'\u001b[0m\u001b[0;34m,\u001b[0m\u001b[0mZ\u001b[0m\u001b[0;34m.\u001b[0m\u001b[0mshape\u001b[0m\u001b[0;34m)\u001b[0m\u001b[0;34m\u001b[0m\u001b[0;34m\u001b[0m\u001b[0m\n",
      "\u001b[0;31mValueError\u001b[0m: shapes (2,3) and (2,3) not aligned: 3 (dim 1) != 2 (dim 0)"
     ]
    }
   ],
   "source": [
    "print('X.shape',X.shape)\n",
    "print('Y.shape',Y.shape)\n",
    "Z = np.dot(X,Y)\n",
    "print('Z = np.dot(X,Y)',Z.shape)\n"
   ]
  },
  {
   "cell_type": "code",
   "execution_count": 18,
   "metadata": {},
   "outputs": [
    {
     "name": "stdout",
     "output_type": "stream",
     "text": [
      "X.shape (2, 3)\n",
      "(Y.T).shape (3, 2)\n",
      "X [[1 2 3]\n",
      " [4 5 6]]\n",
      "(Y.T) [[1 4]\n",
      " [2 5]\n",
      " [3 6]]\n",
      "Z = np.dot(X,Y.T) [[14 32]\n",
      " [32 77]]\n"
     ]
    }
   ],
   "source": [
    "print('X.shape',X.shape)\n",
    "\n",
    "print('(Y.T).shape',(Y.T).shape)\n",
    "\n",
    "Z = np.dot(X,Y.T)\n",
    "print('X',X)\n",
    "print('(Y.T)',(Y.T))\n",
    "print('Z = np.dot(X,Y.T)',Z)"
   ]
  },
  {
   "cell_type": "markdown",
   "metadata": {},
   "source": [
    "Squaring every value in the matrix"
   ]
  },
  {
   "cell_type": "code",
   "execution_count": 19,
   "metadata": {},
   "outputs": [
    {
     "name": "stdout",
     "output_type": "stream",
     "text": [
      "X [[1 2 3]\n",
      " [4 5 6]]\n",
      "X.shape (2, 3)\n"
     ]
    }
   ],
   "source": [
    "#How to square every value of a vector \n",
    "print('X',X)\n",
    "print('X.shape',X.shape)"
   ]
  },
  {
   "cell_type": "code",
   "execution_count": 20,
   "metadata": {},
   "outputs": [
    {
     "name": "stdout",
     "output_type": "stream",
     "text": [
      "X*X [[ 1  4  9]\n",
      " [16 25 36]]\n"
     ]
    }
   ],
   "source": [
    "print('X*X',X*X)"
   ]
  },
  {
   "cell_type": "code",
   "execution_count": 21,
   "metadata": {},
   "outputs": [
    {
     "name": "stdout",
     "output_type": "stream",
     "text": [
      "X**2 [[ 1  4  9]\n",
      " [16 25 36]]\n"
     ]
    }
   ],
   "source": [
    "print('X**2',X**2)"
   ]
  },
  {
   "cell_type": "code",
   "execution_count": 22,
   "metadata": {},
   "outputs": [],
   "source": [
    "#print('X@X',X@X)"
   ]
  },
  {
   "cell_type": "markdown",
   "metadata": {},
   "source": [
    "Column v/s Row totals"
   ]
  },
  {
   "cell_type": "code",
   "execution_count": 23,
   "metadata": {},
   "outputs": [
    {
     "name": "stdout",
     "output_type": "stream",
     "text": [
      "marks---------\n",
      "[[41 62 63 64 45 66]\n",
      " [44 73 42 14 55 46]\n",
      " [74 27 55 44 64 43]\n",
      " [ 7 10 21 11 52 36]\n",
      " [31 42 34 54 55 86]\n",
      " [74 67 42 31 55 26]\n",
      " [41 25 53 84 35 66]\n",
      " [94 47 42 31 25 76]]\n",
      "--------\n",
      "marks.shape is (8, 6)\n",
      "tests and subjects 8 6\n"
     ]
    }
   ],
   "source": [
    "import numpy as np\n",
    "marks = np.array([[41,62,63,64,45,66],[44,73,42,14,55,46],[74,27,55,44,64,43],[7,10,21,11,52,36],[31,42,34,54,55,86],[74,67,42,31,55,26],[41,25,53,84,35,66],[94,47,42,31,25,76]])\n",
    "print('marks---------')\n",
    "print(marks)\n",
    "print('--------')\n",
    "print('marks.shape is',marks.shape)\n",
    "n2,d2 = marks.shape\n",
    "print('tests and subjects',n2,d2)"
   ]
  },
  {
   "cell_type": "code",
   "execution_count": 24,
   "metadata": {},
   "outputs": [
    {
     "name": "stdout",
     "output_type": "stream",
     "text": [
      "test ---\n",
      "[[41 62 63 64 45 66]]\n",
      "56.833333333333336\n",
      "------test ---\n"
     ]
    }
   ],
   "source": [
    "#Marks from test 1 \n",
    "print('test ---')\n",
    "print(marks[:1])\n",
    "print(np.mean(marks[:1]))\n",
    "print('------test ---')"
   ]
  },
  {
   "cell_type": "code",
   "execution_count": 25,
   "metadata": {},
   "outputs": [
    {
     "name": "stdout",
     "output_type": "stream",
     "text": [
      "test ---\n",
      "[341 274 307 137 302 295 304 315]\n",
      "------test ---\n"
     ]
    }
   ],
   "source": [
    "#totals  from each test\n",
    "#row wise operation\n",
    "print('test ---')\n",
    "\n",
    "print(np.sum(marks,axis=1))\n",
    "print('------test ---')"
   ]
  },
  {
   "cell_type": "code",
   "execution_count": 26,
   "metadata": {},
   "outputs": [
    {
     "name": "stdout",
     "output_type": "stream",
     "text": [
      "test ---\n",
      "[406 353 352 333 386 445]\n",
      "------test ---\n"
     ]
    }
   ],
   "source": [
    "#totals  from each subject\n",
    "#column wise / dimension\n",
    "print('test ---')\n",
    "\n",
    "print(np.sum(marks,axis=0))\n",
    "print('------test ---')"
   ]
  },
  {
   "cell_type": "code",
   "execution_count": 27,
   "metadata": {},
   "outputs": [
    {
     "name": "stdout",
     "output_type": "stream",
     "text": [
      "(6,)\n",
      "1\n"
     ]
    }
   ],
   "source": [
    "# Add every subject some grace marks as given\n",
    "grace = np.array([ 5,10,15,20,25,10])\n",
    "print(grace.shape)\n",
    "print(grace.ndim)"
   ]
  },
  {
   "cell_type": "code",
   "execution_count": 28,
   "metadata": {},
   "outputs": [
    {
     "name": "stdout",
     "output_type": "stream",
     "text": [
      "marks shape (8, 6)\n",
      "[[41 62 63 64 45 66]\n",
      " [44 73 42 14 55 46]\n",
      " [74 27 55 44 64 43]\n",
      " [ 7 10 21 11 52 36]\n",
      " [31 42 34 54 55 86]\n",
      " [74 67 42 31 55 26]\n",
      " [41 25 53 84 35 66]\n",
      " [94 47 42 31 25 76]]\n",
      "-----\n",
      "[ 5 10 15 20 25 10]\n"
     ]
    }
   ],
   "source": [
    "print('marks shape',marks.shape)\n",
    "print(marks)\n",
    "print('-----')\n",
    "print(grace)"
   ]
  },
  {
   "cell_type": "code",
   "execution_count": 29,
   "metadata": {},
   "outputs": [
    {
     "name": "stdout",
     "output_type": "stream",
     "text": [
      "marks with subject grace [[ 46  72  78  84  70  76]\n",
      " [ 49  83  57  34  80  56]\n",
      " [ 79  37  70  64  89  53]\n",
      " [ 12  20  36  31  77  46]\n",
      " [ 36  52  49  74  80  96]\n",
      " [ 79  77  57  51  80  36]\n",
      " [ 46  35  68 104  60  76]\n",
      " [ 99  57  57  51  50  86]]\n"
     ]
    }
   ],
   "source": [
    "mgrace = marks+grace\n",
    "print('marks with subject grace',mgrace)"
   ]
  },
  {
   "cell_type": "code",
   "execution_count": 30,
   "metadata": {},
   "outputs": [
    {
     "name": "stdout",
     "output_type": "stream",
     "text": [
      "(6,)\n",
      "1\n"
     ]
    }
   ],
   "source": [
    "# Add every subject some grace marks as given\n",
    "#grace1 = np.array([ 5 10 15 20 25 10])\n",
    "print(grace.shape)\n",
    "print(grace.ndim)"
   ]
  },
  {
   "cell_type": "code",
   "execution_count": 31,
   "metadata": {},
   "outputs": [
    {
     "name": "stdout",
     "output_type": "stream",
     "text": [
      "[[19971]\n",
      " [14366]\n",
      " [17111]\n",
      " [ 4711]\n",
      " [17218]\n",
      " [16391]\n",
      " [17752]\n",
      " [20171]]\n",
      "(8, 1)\n",
      "2\n"
     ]
    }
   ],
   "source": [
    "#---show this to all - Try using both versions of s1 and test\n",
    "s1 = np.sum(marks**2,axis=1,keepdims = True)\n",
    "#s1 = np.sum(marks**2,axis=1)\n",
    "print(s1)\n",
    "print(s1.shape)\n",
    "print(s1.ndim)"
   ]
  },
  {
   "cell_type": "code",
   "execution_count": 32,
   "metadata": {
    "scrolled": false
   },
   "outputs": [
    {
     "name": "stdout",
     "output_type": "stream",
     "text": [
      "[[20012 20033 20034 20035 20016 20037]\n",
      " [14410 14439 14408 14380 14421 14412]\n",
      " [17185 17138 17166 17155 17175 17154]\n",
      " [ 4718  4721  4732  4722  4763  4747]\n",
      " [17249 17260 17252 17272 17273 17304]\n",
      " [16465 16458 16433 16422 16446 16417]\n",
      " [17793 17777 17805 17836 17787 17818]\n",
      " [20265 20218 20213 20202 20196 20247]]\n"
     ]
    }
   ],
   "source": [
    "print(marks+s1)"
   ]
  },
  {
   "cell_type": "code",
   "execution_count": 33,
   "metadata": {},
   "outputs": [
    {
     "name": "stdout",
     "output_type": "stream",
     "text": [
      "[[26096 19089 16692 18243 19750 27821]]\n",
      "(1, 6)\n"
     ]
    }
   ],
   "source": [
    "s2 = np.sum(marks**2,axis=0,keepdims = True)\n",
    "print(s2)\n",
    "print(s2.shape)"
   ]
  },
  {
   "cell_type": "code",
   "execution_count": 34,
   "metadata": {
    "scrolled": true
   },
   "outputs": [
    {
     "name": "stdout",
     "output_type": "stream",
     "text": [
      "[[26137 19151 16755 18307 19795 27887]\n",
      " [26140 19162 16734 18257 19805 27867]\n",
      " [26170 19116 16747 18287 19814 27864]\n",
      " [26103 19099 16713 18254 19802 27857]\n",
      " [26127 19131 16726 18297 19805 27907]\n",
      " [26170 19156 16734 18274 19805 27847]\n",
      " [26137 19114 16745 18327 19785 27887]\n",
      " [26190 19136 16734 18274 19775 27897]]\n"
     ]
    }
   ],
   "source": [
    "print(marks+s2)"
   ]
  },
  {
   "cell_type": "markdown",
   "metadata": {},
   "source": [
    "shape and reshape"
   ]
  },
  {
   "cell_type": "code",
   "execution_count": 35,
   "metadata": {},
   "outputs": [],
   "source": [
    "npvec = np.array([1,2,3])"
   ]
  },
  {
   "cell_type": "code",
   "execution_count": 36,
   "metadata": {},
   "outputs": [
    {
     "name": "stdout",
     "output_type": "stream",
     "text": [
      "(3,)\n"
     ]
    }
   ],
   "source": [
    "print(npvec.shape)"
   ]
  },
  {
   "cell_type": "code",
   "execution_count": 37,
   "metadata": {},
   "outputs": [
    {
     "name": "stdout",
     "output_type": "stream",
     "text": [
      "[[1]\n",
      " [2]\n",
      " [3]]\n"
     ]
    }
   ],
   "source": [
    "colvec = npvec.reshape((3,1))\n",
    "print(colvec)"
   ]
  },
  {
   "cell_type": "code",
   "execution_count": 38,
   "metadata": {},
   "outputs": [
    {
     "data": {
      "text/plain": [
       "'\\nnp.eye() creates an identity matrix\\nnp.zeros() creates a matrix of all zeros\\n.arange() creates a vector of equally spaced values\\n\\n\\n'"
      ]
     },
     "execution_count": 38,
     "metadata": {},
     "output_type": "execute_result"
    }
   ],
   "source": [
    "'''\n",
    "np.eye() creates an identity matrix\n",
    "np.zeros() creates a matrix of all zeros\n",
    ".arange() creates a vector of equally spaced values\n",
    "\n",
    "\n",
    "'''"
   ]
  },
  {
   "cell_type": "code",
   "execution_count": 39,
   "metadata": {},
   "outputs": [],
   "source": [
    "import numpy as np\n",
    "Xt = np.array([[1,2], [3,4]])\n",
    "Yt = np.array([[5,6],[7,8]])\n",
    "A = np.array([[1,2,3,4], [7,8,9,10]])\n",
    "B = np.array([[4,5,6,7], [1,2,3,4]])"
   ]
  },
  {
   "cell_type": "code",
   "execution_count": 40,
   "metadata": {},
   "outputs": [],
   "source": [
    "#print(A@B)"
   ]
  },
  {
   "cell_type": "code",
   "execution_count": 41,
   "metadata": {},
   "outputs": [
    {
     "name": "stdout",
     "output_type": "stream",
     "text": [
      "[[4 1]\n",
      " [5 2]\n",
      " [6 3]\n",
      " [7 4]]\n"
     ]
    }
   ],
   "source": [
    "print(B.T)"
   ]
  },
  {
   "cell_type": "code",
   "execution_count": 42,
   "metadata": {},
   "outputs": [
    {
     "name": "stdout",
     "output_type": "stream",
     "text": [
      "[[41 62 63 64 45 66]\n",
      " [44 73 42 14 55 46]\n",
      " [74 27 55 44 64 43]\n",
      " [ 7 10 21 11 52 36]\n",
      " [31 42 34 54 55 86]\n",
      " [74 67 42 31 55 26]\n",
      " [41 25 53 84 35 66]\n",
      " [94 47 42 31 25 76]]\n"
     ]
    }
   ],
   "source": [
    "print(marks)"
   ]
  },
  {
   "cell_type": "code",
   "execution_count": 43,
   "metadata": {},
   "outputs": [
    {
     "name": "stdout",
     "output_type": "stream",
     "text": [
      "[[41 62 63 64 45 66]\n",
      " [44 73 42 14 55 46]\n",
      " [74 27 55 44 64 43]\n",
      " [ 7 10 21 11 52 36]\n",
      " [31 42 34 54 55 86]\n",
      " [74 67 42 31 55 26]\n",
      " [41 25 53 84 35 66]\n",
      " [94 47 42 31 25 76]]\n",
      "[[41 45 62 63 64 66]\n",
      " [14 42 44 46 55 73]\n",
      " [27 43 44 55 64 74]\n",
      " [ 7 10 11 21 36 52]\n",
      " [31 34 42 54 55 86]\n",
      " [26 31 42 55 67 74]\n",
      " [25 35 41 53 66 84]\n",
      " [25 31 42 47 76 94]]\n"
     ]
    }
   ],
   "source": [
    "print(marks)\n",
    "print(np.sort(marks))"
   ]
  },
  {
   "cell_type": "code",
   "execution_count": 45,
   "metadata": {},
   "outputs": [
    {
     "name": "stdout",
     "output_type": "stream",
     "text": [
      "[[ 7 10 21 11 25 26]\n",
      " [31 25 34 14 35 36]\n",
      " [41 27 42 31 45 43]\n",
      " [41 42 42 31 52 46]\n",
      " [44 47 42 44 55 66]\n",
      " [74 62 53 54 55 66]\n",
      " [74 67 55 64 55 76]\n",
      " [94 73 63 84 64 86]]\n"
     ]
    }
   ],
   "source": [
    "print(np.sort(marks,axis=0))"
   ]
  },
  {
   "cell_type": "code",
   "execution_count": 34,
   "metadata": {},
   "outputs": [
    {
     "name": "stdout",
     "output_type": "stream",
     "text": [
      "[[3 3 3 3 7 5]\n",
      " [4 6 4 1 6 3]\n",
      " [0 2 1 5 0 2]\n",
      " [6 4 5 7 3 1]\n",
      " [1 7 7 2 1 0]\n",
      " [2 0 6 4 4 6]\n",
      " [5 5 2 0 5 7]\n",
      " [7 1 0 6 2 4]]\n"
     ]
    }
   ],
   "source": [
    "print(np.argsort(marks,axis=0))"
   ]
  },
  {
   "cell_type": "code",
   "execution_count": 35,
   "metadata": {},
   "outputs": [],
   "source": [
    "indices = np.argsort(marks,axis=0)"
   ]
  },
  {
   "cell_type": "code",
   "execution_count": 36,
   "metadata": {},
   "outputs": [
    {
     "name": "stdout",
     "output_type": "stream",
     "text": [
      "[[3 3 3 3 7 5]\n",
      " [4 6 4 1 6 3]\n",
      " [0 2 1 5 0 2]\n",
      " [6 4 5 7 3 1]\n",
      " [1 7 7 2 1 0]\n",
      " [2 0 6 4 4 6]\n",
      " [5 5 2 0 5 7]\n",
      " [7 1 0 6 2 4]]\n"
     ]
    }
   ],
   "source": [
    "print(indices)"
   ]
  },
  {
   "cell_type": "code",
   "execution_count": 37,
   "metadata": {},
   "outputs": [
    {
     "name": "stdout",
     "output_type": "stream",
     "text": [
      "[[3 3 3 3 7 5]\n",
      " [4 6 4 1 6 3]\n",
      " [0 2 1 5 0 2]]\n"
     ]
    }
   ],
   "source": [
    "print(indices[:3,:])"
   ]
  },
  {
   "cell_type": "code",
   "execution_count": 38,
   "metadata": {},
   "outputs": [
    {
     "name": "stdout",
     "output_type": "stream",
     "text": [
      "[[3]\n",
      " [4]\n",
      " [0]\n",
      " [6]\n",
      " [1]\n",
      " [2]\n",
      " [5]\n",
      " [7]]\n"
     ]
    }
   ],
   "source": [
    "print(indices[:,:1])"
   ]
  },
  {
   "cell_type": "markdown",
   "metadata": {},
   "source": [
    "Index reference between multiple arrays\n"
   ]
  },
  {
   "cell_type": "code",
   "execution_count": 11,
   "metadata": {},
   "outputs": [
    {
     "name": "stdout",
     "output_type": "stream",
     "text": [
      "(8, 4)\n",
      "[[ 1  2  3  4]\n",
      " [ 7  8  9 10]\n",
      " [ 5  6  7 10]\n",
      " [11 12 13 14]\n",
      " [ 7  1  1 10]\n",
      " [ 5  6  7 10]\n",
      " [11 12 13 14]\n",
      " [ 7  1  1 10]]\n",
      "[ 1  7  5 11  7  5 11  7]\n",
      "[0 2 5 1 4 7 3 6]\n",
      "[ 1  5  5  7  7  7 11 11]\n",
      "[ 1  1  1 -1 -1  1  1 -1]\n"
     ]
    }
   ],
   "source": [
    "#2/15\n",
    "import numpy as np\n",
    "xTr = np.array([[1,2,3,4], [7,8,9,10],[5,6,7,10],[11,12,13,14], [7,1,1,10],[5,6,7,10],[11,12,13,14], [7,1,1,10]])\n",
    "print(xTr.shape)\n",
    "yTr = np.array([1,-1,1,1,-1,1,-1,1])\n",
    "#print(xTr[yTr==1])\n",
    "#print(xTr[yTr==-1])\n",
    "print(xTr)\n",
    "idx = xTr[:,0]\n",
    "print(idx)\n",
    "idx_arg = xTr[:,0].argsort()\n",
    "print(idx_arg)\n",
    "print(xTr[idx_arg,0])\n",
    "print(yTr[idx_arg])"
   ]
  },
  {
   "cell_type": "code",
   "execution_count": null,
   "metadata": {},
   "outputs": [],
   "source": [
    "print(training[0])"
   ]
  },
  {
   "cell_type": "code",
   "execution_count": 40,
   "metadata": {},
   "outputs": [
    {
     "name": "stdout",
     "output_type": "stream",
     "text": [
      "[[ 1  2  3  4]\n",
      " [ 5  6  7 10]\n",
      " [11 12 13 14]]\n"
     ]
    }
   ],
   "source": [
    "print(training[label==1])"
   ]
  },
  {
   "cell_type": "code",
   "execution_count": 43,
   "metadata": {},
   "outputs": [
    {
     "name": "stdout",
     "output_type": "stream",
     "text": [
      "[[ 7  8  9 10]\n",
      " [ 7  1  1 10]]\n",
      "[0. 0. 0. 0. 0.]\n",
      "[5. 0. 5. 5. 0.]\n"
     ]
    }
   ],
   "source": [
    "print(training[label==-1])\n",
    "testx = np.zeros(5)\n",
    "print(testx)\n",
    "testx[label==1] = 5\n",
    "print(testx)"
   ]
  },
  {
   "cell_type": "code",
   "execution_count": null,
   "metadata": {},
   "outputs": [],
   "source": [
    "#mode([3,5,5,8,8,5]) = 5"
   ]
  },
  {
   "cell_type": "code",
   "execution_count": 44,
   "metadata": {},
   "outputs": [
    {
     "name": "stdout",
     "output_type": "stream",
     "text": [
      "[[1 2 3]\n",
      " [4 5 6]\n",
      " [7 8 9]]\n"
     ]
    }
   ],
   "source": [
    "x2 = np.array([[1,2,3], [4,5,6], [7,8,9]])\n",
    "print(x2)"
   ]
  },
  {
   "cell_type": "code",
   "execution_count": 45,
   "metadata": {},
   "outputs": [
    {
     "name": "stdout",
     "output_type": "stream",
     "text": [
      "[[4 5]\n",
      " [7 8]]\n"
     ]
    }
   ],
   "source": [
    "print(x2[1:,:2])"
   ]
  },
  {
   "cell_type": "code",
   "execution_count": 46,
   "metadata": {},
   "outputs": [
    {
     "name": "stdout",
     "output_type": "stream",
     "text": [
      "[1 4 7]\n"
     ]
    }
   ],
   "source": [
    "print(x2[:,0])"
   ]
  },
  {
   "cell_type": "code",
   "execution_count": 5,
   "metadata": {
    "scrolled": true
   },
   "outputs": [
    {
     "name": "stdout",
     "output_type": "stream",
     "text": [
      "[[11 12 13]\n",
      " [21 22 23]\n",
      " [31 32 33]\n",
      " [41 42 43]]\n",
      "[[11 12 13]\n",
      " [21 22 23]\n",
      " [31 32 33]\n",
      " [41 42 43]] (4, 3)\n",
      "[[11]\n",
      " [12]\n",
      " [13]\n",
      " [21]\n",
      " [22]\n",
      " [23]\n",
      " [31]\n",
      " [32]\n",
      " [33]\n",
      " [41]\n",
      " [42]\n",
      " [43]]\n",
      "[[11 12]\n",
      " [13 21]\n",
      " [22 23]\n",
      " [31 32]\n",
      " [33 41]\n",
      " [42 43]]\n"
     ]
    },
    {
     "data": {
      "text/plain": [
       "'\\nprint(x.reshape(-1,1).shape)\\n\\nprint(x.reshape(1,-1))\\n\\n\\nprint(x.reshape(-1,2))\\nprint(x.reshape(-1,2).shape)\\nprint(x.reshape(6,2))\\nprint(x.reshape(6,2).shape)\\n'"
      ]
     },
     "execution_count": 5,
     "metadata": {},
     "output_type": "execute_result"
    }
   ],
   "source": [
    "# 536 Specific\n",
    "\n",
    "import numpy as np\n",
    "x = np.array([[11,12,13],[21,22,23],[31,32,33],[41,42,43]])\n",
    "print(x)\n",
    "\n",
    "print(x,x.shape)\n",
    "\n",
    "print(x.reshape(-1,1))\n",
    "print(x.reshape(6,2))\n",
    "'''\n",
    "print(x.reshape(-1,1).shape)\n",
    "\n",
    "print(x.reshape(1,-1))\n",
    "\n",
    "\n",
    "print(x.reshape(-1,2))\n",
    "print(x.reshape(-1,2).shape)\n",
    "print(x.reshape(6,2))\n",
    "print(x.reshape(6,2).shape)\n",
    "'''"
   ]
  },
  {
   "cell_type": "code",
   "execution_count": null,
   "metadata": {},
   "outputs": [],
   "source": []
  }
 ],
 "metadata": {
  "kernelspec": {
   "display_name": "Python 3",
   "language": "python",
   "name": "python3"
  },
  "language_info": {
   "codemirror_mode": {
    "name": "ipython",
    "version": 3
   },
   "file_extension": ".py",
   "mimetype": "text/x-python",
   "name": "python",
   "nbconvert_exporter": "python",
   "pygments_lexer": "ipython3",
   "version": "3.6.8"
  }
 },
 "nbformat": 4,
 "nbformat_minor": 2
}
